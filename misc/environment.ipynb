{
 "cells": [
  {
   "cell_type": "code",
   "execution_count": 1,
   "metadata": {},
   "outputs": [
    {
     "name": "stdout",
     "output_type": "stream",
     "text": [
      "\n",
      "NAME=\"Ubuntu\"\n",
      "VERSION=\"20.04.3 LTS (Focal Fossa)\"\n",
      "\n",
      "GPU 0: Tesla V100-PCIE-32GB (UUID: GPU-d5657c70-5d7c-b8d0-e69f-84fb0310c998)\n",
      "GPU 1: NVIDIA GeForce GTX 1060 6GB (UUID: GPU-97df665f-d79f-d5a2-d242-f0a8299e5838)\n",
      "\n",
      "Python           3.8.10\n",
      "Notebook         6.4.0\n",
      "NumPy            1.21.3\n",
      "Pandas           1.2.4\n",
      "Matplotlib       3.4.3\n",
      "OpenCV           4.5.2\n",
      "TensorFlow       2.6.0\n",
      "Keras            2.6.0\n",
      "tqdm             4.61.1\n",
      "imageio          2.9.0\n"
     ]
    }
   ],
   "source": [
    "import platform\n",
    "import numpy as np\n",
    "import pandas as pd\n",
    "import matplotlib\n",
    "import notebook\n",
    "import cv2\n",
    "import tensorflow as tf\n",
    "import keras\n",
    "import tqdm\n",
    "import imageio\n",
    "\n",
    "print()\n",
    "!head -2 /etc/os-release\n",
    "print()\n",
    "!nvidia-smi -L\n",
    "print()\n",
    "print('%-16s %s' % ('Python', platform.python_version()))\n",
    "print('%-16s %s' % ('Notebook', notebook.__version__))\n",
    "print('%-16s %s' % ('NumPy', np.__version__))\n",
    "print('%-16s %s' % ('Pandas', pd.__version__))\n",
    "print('%-16s %s' % ('Matplotlib', matplotlib.__version__))\n",
    "print('%-16s %s' % ('OpenCV', cv2.__version__))\n",
    "print('%-16s %s' % ('TensorFlow', tf.__version__))\n",
    "print('%-16s %s' % ('Keras', keras.__version__))\n",
    "print('%-16s %s' % ('tqdm', tqdm.__version__))\n",
    "print('%-16s %s' % ('imageio', imageio.__version__))"
   ]
  },
  {
   "cell_type": "code",
   "execution_count": null,
   "metadata": {},
   "outputs": [],
   "source": []
  },
  {
   "cell_type": "code",
   "execution_count": null,
   "metadata": {},
   "outputs": [],
   "source": []
  }
 ],
 "metadata": {
  "kernelspec": {
   "display_name": "Python 3",
   "language": "python",
   "name": "python3"
  },
  "language_info": {
   "codemirror_mode": {
    "name": "ipython",
    "version": 3
   },
   "file_extension": ".py",
   "mimetype": "text/x-python",
   "name": "python",
   "nbconvert_exporter": "python",
   "pygments_lexer": "ipython3",
   "version": "3.8.10"
  },
  "toc": {
   "base_numbering": 1,
   "nav_menu": {},
   "number_sections": true,
   "sideBar": true,
   "skip_h1_title": false,
   "title_cell": "Table of Contents",
   "title_sidebar": "Contents",
   "toc_cell": false,
   "toc_position": {},
   "toc_section_display": true,
   "toc_window_display": false
  }
 },
 "nbformat": 4,
 "nbformat_minor": 2
}
