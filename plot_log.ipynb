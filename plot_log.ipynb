{
 "cells": [
  {
   "cell_type": "code",
   "execution_count": null,
   "metadata": {},
   "outputs": [],
   "source": [
    "import numpy as np\n",
    "import matplotlib.pyplot as plt\n",
    "import pandas as pd\n",
    "import os\n",
    "\n",
    "from utils.training import plot_log, filter_signal"
   ]
  },
  {
   "cell_type": "code",
   "execution_count": null,
   "metadata": {
    "scrolled": false
   },
   "outputs": [],
   "source": [
    "experiments = !ls -1 ./checkpoints\n",
    "print(*['%3i %s' % (i, v) for i, v in enumerate(experiments.list)], sep='\\n')"
   ]
  },
  {
   "cell_type": "code",
   "execution_count": null,
   "metadata": {},
   "outputs": [],
   "source": [
    "experiments = [\n",
    "    '201809231008_sl512_synthtext', # SegLink\n",
    "    '201806021007_dsodsl512_synthtext', # SegLink with DenseNet and Focal Loss\n",
    "    '201906190710_dsodtbpp512fl_synthtext', # TextBoxes++ with DennseNet and Focal Loss\n",
    "    '202003070004_dstbpp512fl_synthtext', # TextBoxes++ with Dense Blocks, Separable Convolution and Focal Loss\n",
    "]"
   ]
  },
  {
   "cell_type": "markdown",
   "metadata": {},
   "source": [
    "### Log"
   ]
  },
  {
   "cell_type": "code",
   "execution_count": null,
   "metadata": {
    "scrolled": false
   },
   "outputs": [],
   "source": [
    "experiments = !ls -1 ./checkpoints\n",
    "\n",
    "names = [\n",
    "    'loss',\n",
    "    #'lr',\n",
    "    \n",
    "    # SSD, TB, TBPP\n",
    "    'conf_loss', 'loc_loss',\n",
    "    'pos_conf_loss', 'neg_conf_loss', 'pos_loc_loss',\n",
    "    'precision', 'recall', 'fmeasure',\n",
    "    \n",
    "    # SegLink\n",
    "    'seg_conf_loss', 'seg_loc_loss', 'link_conf_loss',\n",
    "    #'pos_seg_conf_loss', 'neg_seg_conf_loss', 'pos_link_conf_loss', 'neg_link_conf_loss', \n",
    "    #'num_pos_seg', 'num_neg_seg', \n",
    "    #'num_pos_link', 'num_neg_link',\n",
    "    #'seg_fmeasure', 'link_fmeasure',\n",
    "    #'seg_precsion', 'link_precision', \n",
    "    #'seg_recall','link_recall',\n",
    "    #'seg_accuracy', 'link_accuracy',\n",
    "    #'inter_link_conf_loss', 'inter_link_precision', 'inter_link_recall', 'inter_link_accuracy', 'inter_link_fmeasure', \n",
    "    #'cross_link_conf_loss', 'cross_link_precision', 'cross_link_recall', 'cross_link_accuracy', 'cross_link_fmeasure', \n",
    "]\n",
    "#names = None\n",
    "\n",
    "limits = [10, None]\n",
    "#limits = None\n",
    "\n",
    "plot_log(experiments[-5:], names, limits, window_length=1000)"
   ]
  },
  {
   "cell_type": "markdown",
   "metadata": {},
   "source": [
    "### Playground"
   ]
  },
  {
   "cell_type": "code",
   "execution_count": null,
   "metadata": {},
   "outputs": [],
   "source": [
    "import pandas as pd\n",
    "\n",
    "d = experiments[-1]\n",
    "\n",
    "df = pd.read_csv('./checkpoints/'+d+'/log.csv')"
   ]
  },
  {
   "cell_type": "code",
   "execution_count": null,
   "metadata": {},
   "outputs": [],
   "source": [
    "%%timeit\n",
    "df = pd.read_csv('./checkpoints/'+d+'/log.csv')\n",
    "\n",
    "# json: 8.67 s ± 30.6 ms per loop (mean ± std. dev. of 7 runs, 1 loop each)\n",
    "# csv:  1.93 s ± 16.9 ms per loop (mean ± std. dev. of 7 runs, 1 loop each)"
   ]
  },
  {
   "cell_type": "code",
   "execution_count": null,
   "metadata": {
    "scrolled": false
   },
   "outputs": [],
   "source": [
    "fstr = '%-40s %-6s %-6s %-6s %14s %14s'\n",
    "print(fstr % ('name', 'len', 'nan', 'inf', 'min', 'max'))\n",
    "for k, v in df.items():\n",
    "    print(fstr % (\n",
    "        k, \n",
    "        len(v),\n",
    "        np.any(np.isnan(v)), \n",
    "        np.any(np.logical_not(np.isfinite(v))),\n",
    "        round(np.min(v), 6),\n",
    "        round(np.max(v), 6),\n",
    "    ))"
   ]
  },
  {
   "cell_type": "code",
   "execution_count": null,
   "metadata": {},
   "outputs": [],
   "source": [
    "if 'iteration' not in df.keys():\n",
    "    df['iteration'] = np.arange(1, len(df)+1)\n",
    "\n",
    "plt.figure()\n",
    "k = 'loss'\n",
    "#k = 'fmeasure'\n",
    "#k = 'recall'\n",
    "plt.plot(df['iteration'], df[k])\n",
    "window_length = 20\n",
    "plt.plot(*filter_signal(df['iteration'], df[k], window_length))\n",
    "#plt.ylim([0,0.5])\n",
    "plt.grid()\n",
    "plt.show()"
   ]
  },
  {
   "cell_type": "code",
   "execution_count": null,
   "metadata": {},
   "outputs": [],
   "source": []
  },
  {
   "cell_type": "code",
   "execution_count": null,
   "metadata": {},
   "outputs": [],
   "source": []
  }
 ],
 "metadata": {
  "kernelspec": {
   "display_name": "Python 3",
   "language": "python",
   "name": "python3"
  },
  "language_info": {
   "codemirror_mode": {
    "name": "ipython",
    "version": 3
   },
   "file_extension": ".py",
   "mimetype": "text/x-python",
   "name": "python",
   "nbconvert_exporter": "python",
   "pygments_lexer": "ipython3",
   "version": "3.8.10"
  },
  "toc": {
   "base_numbering": 1,
   "nav_menu": {},
   "number_sections": true,
   "sideBar": true,
   "skip_h1_title": false,
   "title_cell": "Table of Contents",
   "title_sidebar": "Contents",
   "toc_cell": false,
   "toc_position": {},
   "toc_section_display": true,
   "toc_window_display": false
  }
 },
 "nbformat": 4,
 "nbformat_minor": 2
}
