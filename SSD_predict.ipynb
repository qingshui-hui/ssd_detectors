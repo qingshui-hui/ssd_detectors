{
 "cells": [
  {
   "cell_type": "code",
   "execution_count": null,
   "metadata": {},
   "outputs": [],
   "source": [
    "import numpy as np\n",
    "import matplotlib.pyplot as plt\n",
    "import os\n",
    "import glob\n",
    "\n",
    "from ssd_model import SSD300, SSD512\n",
    "from ssd_utils import PriorUtil\n",
    "from utils.model import load_weights"
   ]
  },
  {
   "cell_type": "markdown",
   "metadata": {},
   "source": [
    "### Data"
   ]
  },
  {
   "cell_type": "code",
   "execution_count": null,
   "metadata": {
    "collapsed": true
   },
   "outputs": [],
   "source": [
    "# MS COCO\n",
    "from data_coco import GTUtility\n",
    "gt_util = GTUtility('data/COCO/', validation=True)\n",
    "#gt_util = gt_util.convert_to_voc()\n",
    "#print(gt_util)"
   ]
  },
  {
   "cell_type": "markdown",
   "metadata": {},
   "source": [
    "### Model"
   ]
  },
  {
   "cell_type": "code",
   "execution_count": null,
   "metadata": {
    "collapsed": true
   },
   "outputs": [],
   "source": [
    "# SDD300\n",
    "# model = SSD300(num_classes=gt_util.num_classes)\n",
    "# weights_path = './models/ssd300_voc_weights_fixed.hdf5'; confidence_threshold = 0.35"
   ]
  },
  {
   "cell_type": "code",
   "execution_count": null,
   "metadata": {
    "collapsed": true
   },
   "outputs": [],
   "source": [
    "# SSD512\n",
    "model = SSD512(num_classes=gt_util.num_classes)\n",
    "weights_path = './models/ssd512_voc_weights_fixed.hdf5'; confidence_threshold = 0.7\n",
    "#weights_path = './models/ssd512_coco_weights_fixed.hdf5'; confidence_threshold = 0.7"
   ]
  },
  {
   "cell_type": "code",
   "execution_count": null,
   "metadata": {
    "collapsed": true
   },
   "outputs": [],
   "source": [
    "load_weights(model, weights_path)\n",
    "prior_util = PriorUtil(model)"
   ]
  },
  {
   "cell_type": "markdown",
   "metadata": {
    "scrolled": false
   },
   "source": [
    "### Predict"
   ]
  },
  {
   "cell_type": "code",
   "execution_count": null,
   "metadata": {
    "collapsed": true
   },
   "outputs": [],
   "source": [
    "import random\n",
    "\n",
    "_, inputs, images, data = gt_util.sample_random_batch(batch_size=2, input_size=model.image_size, seed=random.randint(1, 10000))\n",
    "\n",
    "# plot ground truth\n",
    "for i in range(len(images)):\n",
    "    # break\n",
    "    plt.figure(figsize=[8]*2)\n",
    "    plt.imshow(images[i])\n",
    "    gt_util.plot_gt(data[i])\n",
    "    plt.show()"
   ]
  },
  {
   "cell_type": "code",
   "execution_count": null,
   "metadata": {
    "collapsed": true
   },
   "outputs": [],
   "source": [
    "# plot prior boxes\n",
    "for m in prior_util.prior_maps:\n",
    "    break\n",
    "    plt.figure(figsize=[8]*2)\n",
    "    plt.imshow(images[0])\n",
    "    m.plot_locations()\n",
    "    m.plot_boxes([0, 10, 100])\n",
    "    plt.show()"
   ]
  },
  {
   "cell_type": "code",
   "execution_count": null,
   "metadata": {
    "scrolled": true
   },
   "outputs": [],
   "source": [
    "preds = model.predict(inputs, batch_size=1, verbose=1)"
   ]
  },
  {
   "cell_type": "code",
   "execution_count": null,
   "metadata": {
    "scrolled": false
   },
   "outputs": [],
   "source": [
    "checkdir = os.path.dirname(weights_path)\n",
    "\n",
    "for fl in glob.glob('%s/result_*' % (checkdir,)):\n",
    "    #os.remove(fl)\n",
    "    pass\n",
    "\n",
    "for i in range(2):\n",
    "#for i in range(len(preds)):\n",
    "    plt.figure(figsize=[8]*2)\n",
    "    plt.imshow(images[i])\n",
    "    res = prior_util.decode(preds[i], confidence_threshold=confidence_threshold, fast_nms=True)\n",
    "    prior_util.plot_results(res, classes=gt_util.classes, show_labels=True, gt_data=data[i])\n",
    "    #prior_util.plot_results(res, classes=gt_util.classes, show_labels=True, gt_data=None)\n",
    "    plt.axis('off')\n",
    "    #plt.savefig('%s/result_%03d.jpg' % (checkdir, i))\n",
    "    plt.show()"
   ]
  },
  {
   "cell_type": "markdown",
   "metadata": {
    "collapsed": true
   },
   "source": [
    "### Real world images"
   ]
  },
  {
   "cell_type": "code",
   "execution_count": null,
   "metadata": {
    "collapsed": true
   },
   "outputs": [],
   "source": [
    "import cv2\n",
    "from ssd_data import preprocess\n",
    "\n",
    "inputs = []\n",
    "images = []\n",
    "\n",
    "img_paths = glob.glob('./data/images/*.jpg')\n",
    "\n",
    "for img_path in img_paths:\n",
    "    img = cv2.imread(img_path)\n",
    "    inputs.append(preprocess(img, model.image_size))\n",
    "    h, w = model.image_size\n",
    "    img = cv2.resize(img, (w,h), cv2.INTER_LINEAR).astype('float32')\n",
    "    img = img[:, :, (2,1,0)] # BGR to RGB\n",
    "    img /= 255\n",
    "    images.append(img)\n",
    "    \n",
    "inputs = np.asarray(inputs)\n",
    "\n",
    "preds = model.predict(inputs, batch_size=1, verbose=1)"
   ]
  },
  {
   "cell_type": "code",
   "execution_count": null,
   "metadata": {},
   "outputs": [],
   "source": [
    "link_threshold = 0.3\n",
    "for i in range(len(images)):\n",
    "    print(img_paths[i])\n",
    "    plt.figure(figsize=[8]*2, frameon=True)\n",
    "    plt.imshow(images[i])\n",
    "    res = prior_util.decode(preds[i], confidence_threshold=link_threshold)\n",
    "    prior_util.plot_results(res, classes=gt_util.classes)\n",
    "    plt.axis('off')\n",
    "    plt.show()"
   ]
  },
  {
   "cell_type": "code",
   "execution_count": null,
   "metadata": {
    "collapsed": true
   },
   "outputs": [],
   "source": []
  },
  {
   "cell_type": "code",
   "execution_count": null,
   "metadata": {},
   "outputs": [],
   "source": []
  }
 ],
 "metadata": {
  "anaconda-cloud": {},
  "kernelspec": {
   "display_name": "Python 3",
   "language": "python",
   "name": "python3"
  },
  "language_info": {
   "codemirror_mode": {
    "name": "ipython",
    "version": 3
   },
   "file_extension": ".py",
   "mimetype": "text/x-python",
   "name": "python",
   "nbconvert_exporter": "python",
   "pygments_lexer": "ipython3",
   "version": "3.8.10"
  }
 },
 "nbformat": 4,
 "nbformat_minor": 1
}
