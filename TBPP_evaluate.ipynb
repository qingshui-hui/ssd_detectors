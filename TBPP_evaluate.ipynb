{
 "cells": [
  {
   "cell_type": "code",
   "execution_count": null,
   "metadata": {
    "collapsed": true
   },
   "outputs": [],
   "source": [
    "import numpy as np\n",
    "import matplotlib.pyplot as plt\n",
    "import os\n",
    "import pickle\n",
    "import keras.backend as K\n",
    "from tqdm import tqdm\n",
    "\n",
    "from tbpp_model import TBPP512, TBPP512_dense, TBPP512_dense_separable\n",
    "from ssd_data import InputGenerator\n",
    "from tbpp_training import TBPPFocalLoss\n",
    "from ssd_metric import fscore\n",
    "from sl_metric import evaluate_polygonal_results\n",
    "from utils.model import load_weights, calc_memory_usage\n",
    "from utils.bboxes import rbox3_to_polygon, polygon_to_rbox3\n",
    "from utils.training import Logger\n",
    "from utils.vis import plot_box"
   ]
  },
  {
   "cell_type": "markdown",
   "metadata": {},
   "source": [
    "### Data"
   ]
  },
  {
   "cell_type": "code",
   "execution_count": null,
   "metadata": {
    "collapsed": true
   },
   "outputs": [],
   "source": [
    "from data_synthtext import GTUtility\n",
    "with open('gt_util_synthtext_seglink.pkl', 'rb') as f:\n",
    "    gt_util = pickle.load(f)\n",
    "\n",
    "gt_util_train, gt_util_val = gt_util.split(0.9)"
   ]
  },
  {
   "cell_type": "markdown",
   "metadata": {},
   "source": [
    "### Model"
   ]
  },
  {
   "cell_type": "code",
   "execution_count": null,
   "metadata": {
    "collapsed": true
   },
   "outputs": [],
   "source": [
    "# TextBoxes++ with DSOD backbone\n",
    "model = TBPP512_dense(softmax=False)\n",
    "weights_path = './checkpoints/201906190710_dsodtbpp512fl_synthtext/weights.022.h5'\n",
    "confidence_threshold = 0.35\n",
    "plot_name = 'dsodtbpp512fl_sythtext'"
   ]
  },
  {
   "cell_type": "code",
   "execution_count": null,
   "metadata": {},
   "outputs": [],
   "source": [
    "# TextBoxes++ with dense blocks and separable convolution\n",
    "model = TBPP512_dense_separable(softmax=False)\n",
    "weights_path = './checkpoints/202003070004_dstbpp512fl_synthtext/weights.026.h5'\n",
    "confidence_threshold = 0.45\n",
    "plot_name = 'dstbpp512fl_sythtext'"
   ]
  },
  {
   "cell_type": "code",
   "execution_count": null,
   "metadata": {},
   "outputs": [],
   "source": []
  },
  {
   "cell_type": "code",
   "execution_count": null,
   "metadata": {
    "collapsed": true
   },
   "outputs": [],
   "source": [
    "load_weights(model, weights_path)\n",
    "checkdir = os.path.dirname(weights_path)\n",
    "\n",
    "from tbpp_utils import PriorUtil\n",
    "prior_util = PriorUtil(model)"
   ]
  },
  {
   "cell_type": "markdown",
   "metadata": {},
   "source": [
    "### Prediction"
   ]
  },
  {
   "cell_type": "code",
   "execution_count": null,
   "metadata": {
    "collapsed": true
   },
   "outputs": [],
   "source": [
    "_, inputs, images, data = gt_util_val.sample_random_batch(1024)\n",
    "\n",
    "preds = model.predict(inputs, batch_size=1, verbose=1)"
   ]
  },
  {
   "cell_type": "code",
   "execution_count": null,
   "metadata": {
    "collapsed": true,
    "scrolled": false
   },
   "outputs": [],
   "source": [
    "for i in range(16):\n",
    "    res = prior_util.decode(preds[i], confidence_threshold, fast_nms=False)\n",
    "    plt.figure(figsize=[8]*2)\n",
    "    plt.imshow(images[i])\n",
    "    #prior_util.plot_gt()\n",
    "    prior_util.plot_results(res)\n",
    "    plt.axis('off')\n",
    "    plt.show()"
   ]
  },
  {
   "cell_type": "markdown",
   "metadata": {},
   "source": [
    "### Grid search"
   ]
  },
  {
   "cell_type": "code",
   "execution_count": null,
   "metadata": {
    "collapsed": true
   },
   "outputs": [],
   "source": [
    "steps = np.arange(0.05, 1, 0.05)\n",
    "\n",
    "fmes_grid = np.zeros((len(steps)))\n",
    "\n",
    "for i, t in enumerate(steps):\n",
    "    results = [prior_util.decode(p, t) for p in preds]\n",
    "    TP, FP, FN = evaluate_polygonal_results([g[:,0:8] for g in data], [d[:,4:12] for d in results])\n",
    "    recall = TP / (TP+FN)\n",
    "    precision = TP / (TP+FP)\n",
    "    fmes = fscore(precision, recall)\n",
    "    fmes_grid[i] = fmes\n",
    "    print('threshold %.2f f-measure %.2f' % (t, fmes))"
   ]
  },
  {
   "cell_type": "code",
   "execution_count": null,
   "metadata": {
    "collapsed": true
   },
   "outputs": [],
   "source": [
    "max_idx = np.argmax(fmes_grid)\n",
    "print(steps[max_idx], fmes_grid[max_idx])\n",
    "plt.figure(figsize=[12,6])\n",
    "plt.plot(steps, fmes_grid)\n",
    "plt.plot(steps[max_idx], fmes_grid[max_idx], 'or')\n",
    "plt.xticks(steps)\n",
    "plt.grid()\n",
    "plt.xlabel('threshold')\n",
    "plt.ylabel('f-measure')\n",
    "plt.show()"
   ]
  },
  {
   "cell_type": "markdown",
   "metadata": {},
   "source": [
    "### Precisions, Recall, F-measue"
   ]
  },
  {
   "cell_type": "code",
   "execution_count": null,
   "metadata": {
    "collapsed": true
   },
   "outputs": [],
   "source": [
    "batch_size = 32\n",
    "\n",
    "max_samples = gt_util_val.num_samples\n",
    "max_samples = batch_size * 32\n",
    "\n",
    "test_gt = []\n",
    "test_results = [] \n",
    "\n",
    "for i in tqdm(range(int(np.ceil(max_samples/batch_size)))):\n",
    "    inputs, data = gt_util_val.sample_batch(batch_size, i)\n",
    "    preds = model.predict(inputs, batch_size, verbose=0)\n",
    "    res = [prior_util.decode(p, confidence_threshold) for p in preds]\n",
    "    test_gt.extend(data)\n",
    "    test_results.extend(res)\n",
    "\n",
    "TP, FP, FN = evaluate_polygonal_results([g[:,0:8] for g in test_gt], [d[:,4:12] for d in test_results])\n",
    "recall = TP / (TP+FN)\n",
    "precision = TP / (TP+FP)\n",
    "fmes = fscore(precision, recall)\n",
    "\n",
    "print('samples train     %i' % (gt_util_train.num_samples))\n",
    "print('samples val       %i' % (gt_util_val.num_samples))\n",
    "\n",
    "print('samples           %i' % (max_samples))\n",
    "print('threshold         %0.3f' % (confidence_threshold))\n",
    "print('precision         %0.3f' % (precision))\n",
    "print('recall            %0.3f' % (recall))\n",
    "print('f-measure         %0.3f' % (fmes))\n",
    "\n",
    "trainable_count = int(np.sum([K.count_params(p) for p in set(model.trainable_weights)]))\n",
    "non_trainable_count = int(np.sum([K.count_params(p) for p in set(model.non_trainable_weights)]))\n",
    "\n",
    "print('trainable parameters     %10i' %(trainable_count))\n",
    "print('non-trainable parameters %10i' %(non_trainable_count))\n",
    "calc_memory_usage(model)"
   ]
  },
  {
   "cell_type": "code",
   "execution_count": null,
   "metadata": {
    "collapsed": true
   },
   "outputs": [],
   "source": []
  },
  {
   "cell_type": "code",
   "execution_count": null,
   "metadata": {
    "collapsed": true
   },
   "outputs": [],
   "source": []
  }
 ],
 "metadata": {
  "kernelspec": {
   "display_name": "Python 3",
   "language": "python",
   "name": "python3"
  },
  "language_info": {
   "codemirror_mode": {
    "name": "ipython",
    "version": 3
   },
   "file_extension": ".py",
   "mimetype": "text/x-python",
   "name": "python",
   "nbconvert_exporter": "python",
   "pygments_lexer": "ipython3",
   "version": "3.7.5"
  },
  "toc": {
   "base_numbering": 1,
   "nav_menu": {},
   "number_sections": true,
   "sideBar": true,
   "skip_h1_title": false,
   "title_cell": "Table of Contents",
   "title_sidebar": "Contents",
   "toc_cell": false,
   "toc_position": {},
   "toc_section_display": true,
   "toc_window_display": false
  },
  "varInspector": {
   "cols": {
    "lenName": 16,
    "lenType": 16,
    "lenVar": 40
   },
   "kernels_config": {
    "python": {
     "delete_cmd_postfix": "",
     "delete_cmd_prefix": "del ",
     "library": "var_list.py",
     "varRefreshCmd": "print(var_dic_list())"
    },
    "r": {
     "delete_cmd_postfix": ") ",
     "delete_cmd_prefix": "rm(",
     "library": "var_list.r",
     "varRefreshCmd": "cat(var_dic_list()) "
    }
   },
   "types_to_exclude": [
    "module",
    "function",
    "builtin_function_or_method",
    "instance",
    "_Feature"
   ],
   "window_display": false
  }
 },
 "nbformat": 4,
 "nbformat_minor": 2
}
