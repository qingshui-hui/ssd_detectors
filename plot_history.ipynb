{
 "cells": [
  {
   "cell_type": "code",
   "execution_count": null,
   "metadata": {},
   "outputs": [],
   "source": [
    "import numpy as np\n",
    "import matplotlib.pyplot as plt\n",
    "import pandas as pd\n",
    "import os\n",
    "\n",
    "from utils.training import plot_history"
   ]
  },
  {
   "cell_type": "code",
   "execution_count": null,
   "metadata": {
    "scrolled": true
   },
   "outputs": [],
   "source": [
    "experiments = !ls -1 ./checkpoints\n",
    "print(*['%3i %s' % (i, v) for i, v in enumerate(experiments.list)], sep='\\n')"
   ]
  },
  {
   "cell_type": "code",
   "execution_count": null,
   "metadata": {},
   "outputs": [],
   "source": [
    "experiments = [\n",
    "    '201809231008_sl512_synthtext', # SegLink\n",
    "    '201806021007_dsodsl512_synthtext', # SegLink with DenseNet and Focal Loss\n",
    "    '201807091503_dsodtbpp512fl_synthtext', # TextBoxes++ with DennseNet and Focal Loss\n",
    "    '202003070004_dstbpp512fl_synthtext', # TextBoxes++ with Dense Blocks, Separable Convolution and Focal Loss\n",
    "]"
   ]
  },
  {
   "cell_type": "markdown",
   "metadata": {},
   "source": [
    "### History"
   ]
  },
  {
   "cell_type": "code",
   "execution_count": null,
   "metadata": {},
   "outputs": [],
   "source": [
    "experiments = !ls -1 ./checkpoints\n",
    "\n",
    "names = [\n",
    "    'loss',\n",
    "    \n",
    "    # SSD\n",
    "    'conf_loss', 'loc_loss',\n",
    "    #'pos_conf_loss', 'neg_conf_loss', 'pos_loc_loss',\n",
    "    'precision', 'recall', 'fmeasure',\n",
    "    \n",
    "    # SegLink\n",
    "    'seg_precision', 'seg_recall', 'seg_fmeasure',\n",
    "    #'link_precision', 'link_recall', 'link_fmeasure',\n",
    "    #'pos_seg_conf_loss', 'neg_seg_conf_loss', 'seg_loc_loss', 'pos_link_conf_loss', 'neg_link_conf_loss',\n",
    "    #'num_pos_seg', 'num_neg_seg', 'num_pos_link', 'num_neg_link', \n",
    "    #'seg_conf_loss', 'seg_loc_loss', 'link_conf_loss',\n",
    "]\n",
    "#names = None\n",
    "\n",
    "plot_history(experiments[-4:], names)"
   ]
  },
  {
   "cell_type": "markdown",
   "metadata": {},
   "source": [
    "### Playground"
   ]
  },
  {
   "cell_type": "code",
   "execution_count": null,
   "metadata": {},
   "outputs": [],
   "source": []
  },
  {
   "cell_type": "code",
   "execution_count": null,
   "metadata": {},
   "outputs": [],
   "source": []
  },
  {
   "cell_type": "code",
   "execution_count": null,
   "metadata": {},
   "outputs": [],
   "source": []
  }
 ],
 "metadata": {
  "kernelspec": {
   "display_name": "Python 3",
   "language": "python",
   "name": "python3"
  },
  "language_info": {
   "codemirror_mode": {
    "name": "ipython",
    "version": 3
   },
   "file_extension": ".py",
   "mimetype": "text/x-python",
   "name": "python",
   "nbconvert_exporter": "python",
   "pygments_lexer": "ipython3",
   "version": "3.8.10"
  },
  "toc": {
   "base_numbering": 1,
   "nav_menu": {},
   "number_sections": true,
   "sideBar": true,
   "skip_h1_title": false,
   "title_cell": "Table of Contents",
   "title_sidebar": "Contents",
   "toc_cell": false,
   "toc_position": {},
   "toc_section_display": true,
   "toc_window_display": false
  }
 },
 "nbformat": 4,
 "nbformat_minor": 2
}
