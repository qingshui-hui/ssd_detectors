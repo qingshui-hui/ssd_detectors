{
 "cells": [
  {
   "cell_type": "markdown",
   "metadata": {},
   "source": [
    "# Ground Truth"
   ]
  },
  {
   "cell_type": "code",
   "execution_count": null,
   "metadata": {},
   "outputs": [],
   "source": [
    "import numpy as np\n",
    "import matplotlib.pyplot as plt\n",
    "import os\n",
    "import pickle\n",
    "\n",
    "plt.rcParams['figure.figsize'] = (8, 8)"
   ]
  },
  {
   "cell_type": "markdown",
   "metadata": {},
   "source": [
    "### Pascal VOC"
   ]
  },
  {
   "cell_type": "code",
   "execution_count": null,
   "metadata": {},
   "outputs": [],
   "source": [
    "from data_voc import GTUtility\n",
    "gt_util = GTUtility('data/VOC2007/')"
   ]
  },
  {
   "cell_type": "code",
   "execution_count": null,
   "metadata": {},
   "outputs": [],
   "source": [
    "idx, img, gt = gt_util.sample()\n",
    "plt.imshow(img)\n",
    "gt_util.plot_gt(gt)\n",
    "plt.show()"
   ]
  },
  {
   "cell_type": "code",
   "execution_count": null,
   "metadata": {},
   "outputs": [],
   "source": [
    "print(gt_util)"
   ]
  },
  {
   "cell_type": "markdown",
   "metadata": {},
   "source": [
    "### MS COCO"
   ]
  },
  {
   "cell_type": "code",
   "execution_count": null,
   "metadata": {
    "scrolled": false
   },
   "outputs": [],
   "source": [
    "from data_coco import GTUtility\n",
    "gt_util = GTUtility('data/COCO', validation=True)"
   ]
  },
  {
   "cell_type": "code",
   "execution_count": null,
   "metadata": {},
   "outputs": [],
   "source": [
    "idx, img, gt = gt_util.sample()\n",
    "plt.imshow(img)\n",
    "gt_util.plot_gt(gt)\n",
    "plt.show()"
   ]
  },
  {
   "cell_type": "code",
   "execution_count": null,
   "metadata": {},
   "outputs": [],
   "source": [
    "print('image %i' % (gt_util.num_samples))\n",
    "print('objects %i' % (gt_util.num_objects))\n",
    "print('objects per image %.2f' % (gt_util.num_objects / gt_util.num_samples))\n",
    "\n",
    "plt.figure(figsize=(12,16))\n",
    "y = range(gt_util.num_classes)\n",
    "plt.barh(y, gt_util.stats, align='center')\n",
    "plt.yticks(y, gt_util.classes)\n",
    "plt.ylim(y[0]-1, y[-1]+1)\n",
    "plt.grid()\n",
    "ax = plt.gca()\n",
    "for i, v in enumerate(gt_util.stats):\n",
    "    ax.text(v+200, i-.25, int(v), color='b')\n",
    "plt.show()"
   ]
  },
  {
   "cell_type": "code",
   "execution_count": null,
   "metadata": {},
   "outputs": [],
   "source": [
    "gt = gt_util.convert_to_voc()"
   ]
  },
  {
   "cell_type": "code",
   "execution_count": null,
   "metadata": {},
   "outputs": [],
   "source": [
    "gt1, gt2 = gt.split(0.6)"
   ]
  },
  {
   "cell_type": "code",
   "execution_count": null,
   "metadata": {},
   "outputs": [],
   "source": [
    "gt3 = gt1.merge(gt2)"
   ]
  },
  {
   "cell_type": "code",
   "execution_count": null,
   "metadata": {},
   "outputs": [],
   "source": [
    "gt4 = gt1.subset(100,200)"
   ]
  },
  {
   "cell_type": "code",
   "execution_count": null,
   "metadata": {},
   "outputs": [],
   "source": [
    "gt.num_samples, gt3.num_samples, gt4.num_samples"
   ]
  },
  {
   "cell_type": "markdown",
   "metadata": {},
   "source": [
    "### ICDAR2015 FST"
   ]
  },
  {
   "cell_type": "code",
   "execution_count": null,
   "metadata": {
    "scrolled": true
   },
   "outputs": [],
   "source": [
    "from data_icdar2015fst import GTUtility\n",
    "gt_util = GTUtility('data/ICDAR2015_FST/')\n",
    "gt_util_test = GTUtility('data/ICDAR2015_FST/', test=True, polygon=False)"
   ]
  },
  {
   "cell_type": "code",
   "execution_count": null,
   "metadata": {
    "scrolled": false
   },
   "outputs": [],
   "source": [
    "idx, img, gt = gt_util.sample() # TODO: index 83 is fucked up?\n",
    "plt.imshow(img)\n",
    "gt_util.plot_gt(gt, show_labels=False)\n",
    "plt.show()\n",
    "print(gt_util.text[idx])"
   ]
  },
  {
   "cell_type": "code",
   "execution_count": null,
   "metadata": {},
   "outputs": [],
   "source": [
    "print(gt_util.num_samples, gt_util_test.num_samples)"
   ]
  },
  {
   "cell_type": "markdown",
   "metadata": {},
   "source": [
    "### ICDAR2015 IST"
   ]
  },
  {
   "cell_type": "code",
   "execution_count": null,
   "metadata": {
    "scrolled": true
   },
   "outputs": [],
   "source": [
    "from data_icdar2015ist import GTUtility\n",
    "gt_util = GTUtility('data/ICDAR2015_IST/')\n",
    "gt_util_test = GTUtility('data/ICDAR2015_IST/', test=True)"
   ]
  },
  {
   "cell_type": "code",
   "execution_count": null,
   "metadata": {
    "scrolled": false
   },
   "outputs": [],
   "source": [
    "idx, img, gt = gt_util.sample()\n",
    "plt.imshow(img)\n",
    "gt_util.plot_gt(gt, show_labels=False)\n",
    "plt.show()\n",
    "print(gt_util.text[idx])"
   ]
  },
  {
   "cell_type": "code",
   "execution_count": null,
   "metadata": {},
   "outputs": [],
   "source": [
    "print(gt_util.num_samples, gt_util_test.num_samples)"
   ]
  },
  {
   "cell_type": "markdown",
   "metadata": {},
   "source": [
    "### MSRA TD500"
   ]
  },
  {
   "cell_type": "code",
   "execution_count": null,
   "metadata": {},
   "outputs": [],
   "source": [
    "from data_td500 import GTUtility\n",
    "gt_util = GTUtility('data/MSRA-TD500/')"
   ]
  },
  {
   "cell_type": "code",
   "execution_count": null,
   "metadata": {
    "scrolled": false
   },
   "outputs": [],
   "source": [
    "idx, img, gt = gt_util.sample()\n",
    "plt.imshow(img)\n",
    "gt_util.plot_gt(gt, show_labels=False)\n",
    "plt.show()"
   ]
  },
  {
   "cell_type": "markdown",
   "metadata": {
    "collapsed": true
   },
   "source": [
    "### SVT"
   ]
  },
  {
   "cell_type": "code",
   "execution_count": null,
   "metadata": {},
   "outputs": [],
   "source": [
    "from data_svt import GTUtility\n",
    "gt_util = GTUtility('data/SVT/')"
   ]
  },
  {
   "cell_type": "code",
   "execution_count": null,
   "metadata": {},
   "outputs": [],
   "source": [
    "idx, img, gt = gt_util.sample()\n",
    "plt.imshow(img)\n",
    "gt_util.plot_gt(gt, show_labels=False)\n",
    "plt.show()"
   ]
  },
  {
   "cell_type": "markdown",
   "metadata": {},
   "source": [
    "### COCO-Text"
   ]
  },
  {
   "cell_type": "code",
   "execution_count": null,
   "metadata": {},
   "outputs": [],
   "source": [
    "from data_cocotext import GTUtility\n",
    "gt_util = GTUtility('data/COCO-Text', polygon=False)"
   ]
  },
  {
   "cell_type": "code",
   "execution_count": null,
   "metadata": {},
   "outputs": [],
   "source": [
    "idx, img, gt = gt_util.sample()\n",
    "plt.imshow(img)\n",
    "gt_util.plot_gt(gt, show_labels=False)\n",
    "plt.show()"
   ]
  },
  {
   "cell_type": "markdown",
   "metadata": {},
   "source": [
    "### SynthText"
   ]
  },
  {
   "cell_type": "code",
   "execution_count": null,
   "metadata": {
    "scrolled": true
   },
   "outputs": [],
   "source": [
    "# for TextBoxes\n",
    "\n",
    "from data_synthtext import GTUtility\n",
    "gt_util = GTUtility('data/SynthText/', max_slope=10)\n",
    "\n",
    "file_name = 'gt_util_synthtext_horizontal10.pkl'\n",
    "pickle.dump(gt_util, open(file_name,'wb'))\n",
    "#with open(file_name, 'rb') as f:\n",
    "#    gt_util = pickle.load(f)\n",
    "\n",
    "print(gt_util)"
   ]
  },
  {
   "cell_type": "code",
   "execution_count": null,
   "metadata": {},
   "outputs": [],
   "source": [
    "# for SegLink and TextBoxes++\n",
    "\n",
    "from data_synthtext import GTUtility\n",
    "gt_util = GTUtility('data/SynthText/', polygon=True)\n",
    "\n",
    "file_name = 'gt_util_synthtext_seglink.pkl'\n",
    "pickle.dump(gt_util, open(file_name,'wb'))\n",
    "#with open(file_name, 'rb') as f:\n",
    "#    gt_util = pickle.load(f)\n",
    "\n",
    "print(gt_util)"
   ]
  },
  {
   "cell_type": "code",
   "execution_count": null,
   "metadata": {},
   "outputs": [],
   "source": [
    "gtu1, gtu2 = gt_util.split(0.001)\n",
    "\n",
    "file_name = 'gt_util_synthtext_seglink_xxs.pkl'\n",
    "pickle.dump(gtu1, open(file_name,'wb'))\n",
    "#with open(file_name, 'rb') as f:\n",
    "#    gtu1 = pickle.load(f)"
   ]
  },
  {
   "cell_type": "code",
   "execution_count": null,
   "metadata": {},
   "outputs": [],
   "source": [
    "idx, img, gt = gt_util.sample()\n",
    "plt.imshow(img)\n",
    "gt_util.plot_gt(gt, show_labels=False)\n",
    "plt.show()"
   ]
  },
  {
   "cell_type": "code",
   "execution_count": null,
   "metadata": {},
   "outputs": [],
   "source": []
  },
  {
   "cell_type": "code",
   "execution_count": null,
   "metadata": {},
   "outputs": [],
   "source": []
  }
 ],
 "metadata": {
  "kernelspec": {
   "display_name": "Python 3",
   "language": "python",
   "name": "python3"
  },
  "language_info": {
   "codemirror_mode": {
    "name": "ipython",
    "version": 3
   },
   "file_extension": ".py",
   "mimetype": "text/x-python",
   "name": "python",
   "nbconvert_exporter": "python",
   "pygments_lexer": "ipython3",
   "version": "3.8.10"
  },
  "toc": {
   "base_numbering": 1,
   "nav_menu": {},
   "number_sections": true,
   "sideBar": true,
   "skip_h1_title": false,
   "title_cell": "Table of Contents",
   "title_sidebar": "Contents",
   "toc_cell": false,
   "toc_position": {},
   "toc_section_display": true,
   "toc_window_display": false
  }
 },
 "nbformat": 4,
 "nbformat_minor": 2
}
